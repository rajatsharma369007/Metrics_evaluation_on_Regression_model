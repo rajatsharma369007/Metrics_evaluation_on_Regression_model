{
 "cells": [
  {
   "cell_type": "markdown",
   "metadata": {},
   "source": [
    "# Different Metric Evaluation over different Regressor models.\n",
    "Here, I have discussed about different evaluation metrics like mean absolute error, mean squared error, r2 score, how they work and can be implemented using numpy and sklearn.\n",
    "\n",
    "### Boston Housing Data\n",
    "\n",
    "In order to gain a better understanding of the metrics used in regression settings, we will be looking at the Boston Housing dataset.  \n",
    "First use the cell below to read in the dataset and set up the training and testing data that will be used for the rest of this problem.\n"
   ]
  },
  {
   "cell_type": "markdown",
   "metadata": {},
   "source": [
    "### Import Libraries and split the dataset"
   ]
  },
  {
   "cell_type": "code",
   "execution_count": 4,
   "metadata": {},
   "outputs": [],
   "source": [
    "from sklearn.datasets import load_boston\n",
    "from sklearn.model_selection import train_test_split\n",
    "import numpy as np\n",
    "\n",
    "boston = load_boston()\n",
    "y = boston.target\n",
    "X = boston.data\n",
    "\n",
    "X_train, X_test, y_train, y_test = train_test_split(X, y, test_size=0.33, random_state=42)"
   ]
  },
  {
   "cell_type": "markdown",
   "metadata": {},
   "source": [
    "### Import the models"
   ]
  },
  {
   "cell_type": "code",
   "execution_count": 6,
   "metadata": {},
   "outputs": [
    {
     "name": "stderr",
     "output_type": "stream",
     "text": [
      "/home/rajat/anaconda3/lib/python3.6/site-packages/sklearn/ensemble/weight_boosting.py:29: DeprecationWarning: numpy.core.umath_tests is an internal NumPy module and should not be imported. It will be removed in a future NumPy release.\n",
      "  from numpy.core.umath_tests import inner1d\n"
     ]
    }
   ],
   "source": [
    "from sklearn.linear_model import LinearRegression\n",
    "from sklearn.ensemble import AdaBoostRegressor\n",
    "from sklearn.ensemble import RandomForestRegressor\n",
    "from sklearn.tree import DecisionTreeRegressor"
   ]
  },
  {
   "cell_type": "markdown",
   "metadata": {},
   "source": [
    "### Instantiate the model"
   ]
  },
  {
   "cell_type": "code",
   "execution_count": 7,
   "metadata": {},
   "outputs": [],
   "source": [
    "linear_md = LinearRegression()\n",
    "adaboost_md = AdaBoostRegressor()\n",
    "randomf_md = RandomForestRegressor()\n",
    "decision_md = DecisionTreeRegressor()"
   ]
  },
  {
   "cell_type": "markdown",
   "metadata": {},
   "source": [
    "### Fitting the data"
   ]
  },
  {
   "cell_type": "code",
   "execution_count": 8,
   "metadata": {},
   "outputs": [],
   "source": [
    "linear_md = linear_md.fit(X_train, y_train)\n",
    "adaboost_md = adaboost_md.fit(X_train, y_train)\n",
    "randomf_md = randomf_md.fit(X_train, y_train)\n",
    "decision_md = decision_md.fit(X_train, y_train)"
   ]
  },
  {
   "cell_type": "markdown",
   "metadata": {},
   "source": [
    "### Predict the values"
   ]
  },
  {
   "cell_type": "code",
   "execution_count": 9,
   "metadata": {},
   "outputs": [],
   "source": [
    "preds_lm = linear_md.predict(X_test)\n",
    "preds_ad = adaboost_md.predict(X_test)\n",
    "preds_rd = randomf_md.predict(X_test)\n",
    "preds_dt = decision_md.predict(X_test)"
   ]
  },
  {
   "cell_type": "markdown",
   "metadata": {},
   "source": [
    "### Implementing the R2 score"
   ]
  },
  {
   "cell_type": "code",
   "execution_count": 11,
   "metadata": {},
   "outputs": [],
   "source": [
    "def r2(actual, preds):\n",
    "    sse = np.sum((actual-preds)**2)\n",
    "    mid = np.sum((actual-np.mean(actual))**2)\n",
    "    return 1 - mse/mid"
   ]
  },
  {
   "cell_type": "markdown",
   "metadata": {},
   "source": [
    "### Implementing the mean squared error"
   ]
  },
  {
   "cell_type": "code",
   "execution_count": 12,
   "metadata": {},
   "outputs": [],
   "source": [
    "def mse(actual, preds):\n",
    "    sse = np.sum((actual - preds)**2)\n",
    "    return sse/len(actual)"
   ]
  },
  {
   "cell_type": "markdown",
   "metadata": {},
   "source": [
    "### Implementing the mean absolute error"
   ]
  },
  {
   "cell_type": "code",
   "execution_count": 13,
   "metadata": {},
   "outputs": [],
   "source": [
    "def mae(actual, preds):  \n",
    "    sae = np.sum(abs(actual - preds))\n",
    "    return sae/len(actual)"
   ]
  },
  {
   "cell_type": "markdown",
   "metadata": {},
   "source": [
    "### Result"
   ]
  },
  {
   "cell_type": "code",
   "execution_count": 15,
   "metadata": {},
   "outputs": [
    {
     "name": "stdout",
     "output_type": "stream",
     "text": [
      "Decision Tree\n",
      "Mean Squared :  18.714670658682632\n",
      "R2 Score     :  0.7527082515081793\n",
      "Mean Absolute:  2.9814371257485033\n",
      "\n",
      "Random Forest\n",
      "Mean Squared :  12.245499401197607\n",
      "R2 Score     :  0.8381905290610729\n",
      "Mean Absolute:  2.397005988023952\n",
      "\n",
      "AdaBoost\n",
      "Mean Squared :  14.336114187863055\n",
      "R2 Score     :  0.8105655820103752\n",
      "Mean Absolute:  2.70164410118202\n",
      "\n",
      "Linear Regression\n",
      "Mean Squared :  20.74714336030893\n",
      "R2 Score     :  0.7258515818230051\n",
      "Mean Absolute:  3.151287836588401\n",
      "\n"
     ]
    }
   ],
   "source": [
    "print(\"Decision Tree\")\n",
    "print(\"Mean Squared : \",mse(y_test, preds_dt))\n",
    "print(\"R2 Score     : \",r2(y_test, preds_dt))\n",
    "print(\"Mean Absolute: \",mae(y_test, preds_dt), end='\\n\\n')\n",
    "\n",
    "print(\"Random Forest\")\n",
    "print(\"Mean Squared : \",mse(y_test, preds_rd))\n",
    "print(\"R2 Score     : \",r2(y_test, preds_rd))\n",
    "print(\"Mean Absolute: \",mae(y_test, preds_rd), end='\\n\\n')\n",
    "\n",
    "print(\"AdaBoost\")\n",
    "print(\"Mean Squared : \",mse(y_test, preds_ad))\n",
    "print(\"R2 Score     : \",r2(y_test, preds_ad))\n",
    "print(\"Mean Absolute: \",mae(y_test, preds_ad), end='\\n\\n')\n",
    "\n",
    "print(\"Linear Regression\")\n",
    "print(\"Mean Squared : \",mse(y_test, preds_lm))\n",
    "print(\"R2 Score     : \",r2(y_test, preds_lm))\n",
    "print(\"Mean Absolute: \",mae(y_test, preds_lm), end='\\n\\n')"
   ]
  }
 ],
 "metadata": {
  "kernelspec": {
   "display_name": "Python [conda root]",
   "language": "python",
   "name": "conda-root-py"
  },
  "language_info": {
   "codemirror_mode": {
    "name": "ipython",
    "version": 3
   },
   "file_extension": ".py",
   "mimetype": "text/x-python",
   "name": "python",
   "nbconvert_exporter": "python",
   "pygments_lexer": "ipython3",
   "version": "3.6.6"
  }
 },
 "nbformat": 4,
 "nbformat_minor": 2
}
